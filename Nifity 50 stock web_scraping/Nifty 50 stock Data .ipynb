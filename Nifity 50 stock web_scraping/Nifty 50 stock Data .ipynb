{
 "cells": [
  {
   "cell_type": "markdown",
   "id": "d623516e",
   "metadata": {},
   "source": [
    "# Nifty 50 Stock Data from 01 Jan 2002 to 12 Dec 2022 "
   ]
  },
  {
   "cell_type": "code",
   "execution_count": 1,
   "id": "6d6b77fa",
   "metadata": {},
   "outputs": [],
   "source": [
    "import requests\n",
    "from bs4 import BeautifulSoup\n",
    "\n",
    "import pandas as pd\n",
    "from pandas_datareader import data as pdr\n",
    "import yfinance as yf\n",
    "from datetime import datetime\n"
   ]
  },
  {
   "cell_type": "code",
   "execution_count": 2,
   "id": "f95a9d50",
   "metadata": {},
   "outputs": [
    {
     "data": {
      "text/html": [
       "<div>\n",
       "<style scoped>\n",
       "    .dataframe tbody tr th:only-of-type {\n",
       "        vertical-align: middle;\n",
       "    }\n",
       "\n",
       "    .dataframe tbody tr th {\n",
       "        vertical-align: top;\n",
       "    }\n",
       "\n",
       "    .dataframe thead th {\n",
       "        text-align: right;\n",
       "    }\n",
       "</style>\n",
       "<table border=\"1\" class=\"dataframe\">\n",
       "  <thead>\n",
       "    <tr style=\"text-align: right;\">\n",
       "      <th></th>\n",
       "      <th>Company Name</th>\n",
       "      <th>Industry</th>\n",
       "      <th>Symbol</th>\n",
       "      <th>Series</th>\n",
       "      <th>ISIN Code</th>\n",
       "    </tr>\n",
       "  </thead>\n",
       "  <tbody>\n",
       "    <tr>\n",
       "      <th>0</th>\n",
       "      <td>Adani Enterprises Ltd.</td>\n",
       "      <td>Metals &amp; Mining</td>\n",
       "      <td>ADANIENT</td>\n",
       "      <td>EQ</td>\n",
       "      <td>INE423A01024</td>\n",
       "    </tr>\n",
       "    <tr>\n",
       "      <th>1</th>\n",
       "      <td>Adani Ports and Special Economic Zone Ltd.</td>\n",
       "      <td>Services</td>\n",
       "      <td>ADANIPORTS</td>\n",
       "      <td>EQ</td>\n",
       "      <td>INE742F01042</td>\n",
       "    </tr>\n",
       "    <tr>\n",
       "      <th>2</th>\n",
       "      <td>Apollo Hospitals Enterprise Ltd.</td>\n",
       "      <td>Healthcare</td>\n",
       "      <td>APOLLOHOSP</td>\n",
       "      <td>EQ</td>\n",
       "      <td>INE437A01024</td>\n",
       "    </tr>\n",
       "    <tr>\n",
       "      <th>3</th>\n",
       "      <td>Asian Paints Ltd.</td>\n",
       "      <td>Consumer Durables</td>\n",
       "      <td>ASIANPAINT</td>\n",
       "      <td>EQ</td>\n",
       "      <td>INE021A01026</td>\n",
       "    </tr>\n",
       "    <tr>\n",
       "      <th>4</th>\n",
       "      <td>Axis Bank Ltd.</td>\n",
       "      <td>Financial Services</td>\n",
       "      <td>AXISBANK</td>\n",
       "      <td>EQ</td>\n",
       "      <td>INE238A01034</td>\n",
       "    </tr>\n",
       "  </tbody>\n",
       "</table>\n",
       "</div>"
      ],
      "text/plain": [
       "                                 Company Name            Industry      Symbol  \\\n",
       "0                      Adani Enterprises Ltd.     Metals & Mining    ADANIENT   \n",
       "1  Adani Ports and Special Economic Zone Ltd.            Services  ADANIPORTS   \n",
       "2            Apollo Hospitals Enterprise Ltd.          Healthcare  APOLLOHOSP   \n",
       "3                           Asian Paints Ltd.   Consumer Durables  ASIANPAINT   \n",
       "4                              Axis Bank Ltd.  Financial Services    AXISBANK   \n",
       "\n",
       "  Series     ISIN Code  \n",
       "0     EQ  INE423A01024  \n",
       "1     EQ  INE742F01042  \n",
       "2     EQ  INE437A01024  \n",
       "3     EQ  INE021A01026  \n",
       "4     EQ  INE238A01034  "
      ]
     },
     "execution_count": 2,
     "metadata": {},
     "output_type": "execute_result"
    }
   ],
   "source": [
    "df = pd.read_csv(r\"C:\\Users\\lalit\\Downloads\\ind_nifty50list.csv\")\n",
    "df.head()"
   ]
  },
  {
   "cell_type": "code",
   "execution_count": 3,
   "id": "2cb348f2",
   "metadata": {},
   "outputs": [
    {
     "data": {
      "text/plain": [
       "0      ADANIENT\n",
       "1    ADANIPORTS\n",
       "2    APOLLOHOSP\n",
       "3    ASIANPAINT\n",
       "4      AXISBANK\n",
       "5    BAJAJ-AUTO\n",
       "6    BAJFINANCE\n",
       "7    BAJAJFINSV\n",
       "8          BPCL\n",
       "9    BHARTIARTL\n",
       "Name: Symbol, dtype: object"
      ]
     },
     "execution_count": 3,
     "metadata": {},
     "output_type": "execute_result"
    }
   ],
   "source": [
    "symbol = df[\"Symbol\"]\n",
    "symbol[:10]"
   ]
  },
  {
   "cell_type": "code",
   "execution_count": 4,
   "id": "d043eadf",
   "metadata": {},
   "outputs": [],
   "source": [
    "# Now get stock data "
   ]
  },
  {
   "cell_type": "code",
   "execution_count": 5,
   "id": "b5b941fc",
   "metadata": {},
   "outputs": [],
   "source": [
    "yf.pdr_override()"
   ]
  },
  {
   "cell_type": "code",
   "execution_count": 6,
   "id": "52ebcac3",
   "metadata": {},
   "outputs": [],
   "source": [
    "start_data = datetime(2002,12,21)\n",
    "end_data = datetime(2022,12,21)"
   ]
  },
  {
   "cell_type": "code",
   "execution_count": 10,
   "id": "4cbb7ed3",
   "metadata": {},
   "outputs": [
    {
     "data": {
      "text/plain": [
       "str"
      ]
     },
     "execution_count": 10,
     "metadata": {},
     "output_type": "execute_result"
    }
   ],
   "source": []
  },
  {
   "cell_type": "code",
   "execution_count": 13,
   "id": "2c76ff64",
   "metadata": {},
   "outputs": [
    {
     "name": "stdout",
     "output_type": "stream",
     "text": [
      "[*********************100%***********************]  1 of 1 completed\n"
     ]
    },
    {
     "data": {
      "text/html": [
       "<div>\n",
       "<style scoped>\n",
       "    .dataframe tbody tr th:only-of-type {\n",
       "        vertical-align: middle;\n",
       "    }\n",
       "\n",
       "    .dataframe tbody tr th {\n",
       "        vertical-align: top;\n",
       "    }\n",
       "\n",
       "    .dataframe thead th {\n",
       "        text-align: right;\n",
       "    }\n",
       "</style>\n",
       "<table border=\"1\" class=\"dataframe\">\n",
       "  <thead>\n",
       "    <tr style=\"text-align: right;\">\n",
       "      <th></th>\n",
       "      <th>Open</th>\n",
       "      <th>High</th>\n",
       "      <th>Low</th>\n",
       "      <th>Close</th>\n",
       "      <th>Adj Close</th>\n",
       "      <th>Volume</th>\n",
       "    </tr>\n",
       "    <tr>\n",
       "      <th>Date</th>\n",
       "      <th></th>\n",
       "      <th></th>\n",
       "      <th></th>\n",
       "      <th></th>\n",
       "      <th></th>\n",
       "      <th></th>\n",
       "    </tr>\n",
       "  </thead>\n",
       "  <tbody>\n",
       "    <tr>\n",
       "      <th>2002-12-02</th>\n",
       "      <td>51.825001</td>\n",
       "      <td>52.240002</td>\n",
       "      <td>51.825001</td>\n",
       "      <td>52.134998</td>\n",
       "      <td>38.613300</td>\n",
       "      <td>27500</td>\n",
       "    </tr>\n",
       "    <tr>\n",
       "      <th>2002-12-03</th>\n",
       "      <td>52.230000</td>\n",
       "      <td>52.285000</td>\n",
       "      <td>51.770000</td>\n",
       "      <td>52.119999</td>\n",
       "      <td>38.602188</td>\n",
       "      <td>11590</td>\n",
       "    </tr>\n",
       "    <tr>\n",
       "      <th>2002-12-04</th>\n",
       "      <td>53.500000</td>\n",
       "      <td>53.500000</td>\n",
       "      <td>51.650002</td>\n",
       "      <td>52.380001</td>\n",
       "      <td>38.794762</td>\n",
       "      <td>45350</td>\n",
       "    </tr>\n",
       "    <tr>\n",
       "      <th>2002-12-05</th>\n",
       "      <td>51.900002</td>\n",
       "      <td>52.490002</td>\n",
       "      <td>51.900002</td>\n",
       "      <td>52.009998</td>\n",
       "      <td>38.520718</td>\n",
       "      <td>13220</td>\n",
       "    </tr>\n",
       "    <tr>\n",
       "      <th>2002-12-06</th>\n",
       "      <td>53.000000</td>\n",
       "      <td>53.000000</td>\n",
       "      <td>51.160000</td>\n",
       "      <td>52.150002</td>\n",
       "      <td>38.624401</td>\n",
       "      <td>75390</td>\n",
       "    </tr>\n",
       "  </tbody>\n",
       "</table>\n",
       "</div>"
      ],
      "text/plain": [
       "                 Open       High        Low      Close  Adj Close  Volume\n",
       "Date                                                                     \n",
       "2002-12-02  51.825001  52.240002  51.825001  52.134998  38.613300   27500\n",
       "2002-12-03  52.230000  52.285000  51.770000  52.119999  38.602188   11590\n",
       "2002-12-04  53.500000  53.500000  51.650002  52.380001  38.794762   45350\n",
       "2002-12-05  51.900002  52.490002  51.900002  52.009998  38.520718   13220\n",
       "2002-12-06  53.000000  53.000000  51.160000  52.150002  38.624401   75390"
      ]
     },
     "execution_count": 13,
     "metadata": {},
     "output_type": "execute_result"
    }
   ],
   "source": [
    "data = pdr.get_data_yahoo(symbol[10]+\".NS\", start=start_data, end=end_data)\n",
    "data.head()"
   ]
  },
  {
   "cell_type": "code",
   "execution_count": 17,
   "id": "b4def2a2",
   "metadata": {},
   "outputs": [
    {
     "name": "stdout",
     "output_type": "stream",
     "text": [
      "[*********************100%***********************]  1 of 1 completed\n",
      "[*********************100%***********************]  1 of 1 completed\n",
      "[*********************100%***********************]  1 of 1 completed\n",
      "[*********************100%***********************]  1 of 1 completed\n",
      "[*********************100%***********************]  1 of 1 completed\n",
      "[*********************100%***********************]  1 of 1 completed\n",
      "[*********************100%***********************]  1 of 1 completed\n",
      "[*********************100%***********************]  1 of 1 completed\n",
      "[*********************100%***********************]  1 of 1 completed\n",
      "[*********************100%***********************]  1 of 1 completed\n",
      "[*********************100%***********************]  1 of 1 completed\n",
      "[*********************100%***********************]  1 of 1 completed\n",
      "[*********************100%***********************]  1 of 1 completed\n",
      "[*********************100%***********************]  1 of 1 completed\n",
      "[*********************100%***********************]  1 of 1 completed\n",
      "[*********************100%***********************]  1 of 1 completed\n",
      "[*********************100%***********************]  1 of 1 completed\n",
      "[*********************100%***********************]  1 of 1 completed\n",
      "[*********************100%***********************]  1 of 1 completed\n",
      "[*********************100%***********************]  1 of 1 completed\n",
      "[*********************100%***********************]  1 of 1 completed\n",
      "[*********************100%***********************]  1 of 1 completed\n",
      "[*********************100%***********************]  1 of 1 completed\n",
      "[*********************100%***********************]  1 of 1 completed\n",
      "[*********************100%***********************]  1 of 1 completed\n",
      "[*********************100%***********************]  1 of 1 completed\n",
      "[*********************100%***********************]  1 of 1 completed\n",
      "[*********************100%***********************]  1 of 1 completed\n",
      "[*********************100%***********************]  1 of 1 completed\n",
      "[*********************100%***********************]  1 of 1 completed\n",
      "[*********************100%***********************]  1 of 1 completed\n",
      "[*********************100%***********************]  1 of 1 completed\n",
      "[*********************100%***********************]  1 of 1 completed\n",
      "[*********************100%***********************]  1 of 1 completed\n",
      "[*********************100%***********************]  1 of 1 completed\n",
      "[*********************100%***********************]  1 of 1 completed\n",
      "[*********************100%***********************]  1 of 1 completed\n",
      "[*********************100%***********************]  1 of 1 completed\n",
      "[*********************100%***********************]  1 of 1 completed\n",
      "[*********************100%***********************]  1 of 1 completed\n",
      "[*********************100%***********************]  1 of 1 completed\n",
      "[*********************100%***********************]  1 of 1 completed\n",
      "[*********************100%***********************]  1 of 1 completed\n",
      "[*********************100%***********************]  1 of 1 completed\n",
      "[*********************100%***********************]  1 of 1 completed\n",
      "[*********************100%***********************]  1 of 1 completed\n",
      "[*********************100%***********************]  1 of 1 completed\n",
      "[*********************100%***********************]  1 of 1 completed\n",
      "[*********************100%***********************]  1 of 1 completed\n",
      "[*********************100%***********************]  1 of 1 completed\n"
     ]
    }
   ],
   "source": [
    "for name in range(len(symbol)):\n",
    "    \n",
    "    data = pdr.get_data_yahoo(symbol[name]+\".NS\", start=start_data, end=end_data)\n",
    "    \n",
    "    data.to_csv(symbol[name] + \".csv\")"
   ]
  },
  {
   "cell_type": "code",
   "execution_count": null,
   "id": "76116588",
   "metadata": {},
   "outputs": [],
   "source": []
  }
 ],
 "metadata": {
  "kernelspec": {
   "display_name": "Python 3 (ipykernel)",
   "language": "python",
   "name": "python3"
  },
  "language_info": {
   "codemirror_mode": {
    "name": "ipython",
    "version": 3
   },
   "file_extension": ".py",
   "mimetype": "text/x-python",
   "name": "python",
   "nbconvert_exporter": "python",
   "pygments_lexer": "ipython3",
   "version": "3.9.7"
  }
 },
 "nbformat": 4,
 "nbformat_minor": 5
}
